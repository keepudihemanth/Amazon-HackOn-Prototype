{
 "cells": [
  {
   "cell_type": "code",
   "execution_count": null,
   "id": "5f8c9108-d043-4acf-bfef-3026343dba64",
   "metadata": {},
   "outputs": [],
   "source": [
    "!pip install seaborn\n",
    "\n",
    "import sys\n",
    "!{sys.executable} -m pip install seaborn\n"
   ]
  },
  {
   "cell_type": "code",
   "execution_count": null,
   "id": "39066f3d-5df5-42c2-a9f2-bb8770fc026d",
   "metadata": {},
   "outputs": [],
   "source": [
    "import pandas as pd\n",
    "import numpy as np\n",
    "import matplotlib.pyplot as plt\n",
    "import seaborn as sns\n",
    "\n",
    "from sklearn.metrics.pairwise import cosine_similarity\n",
    "from sklearn.feature_extraction.text import TfidfVectorizer\n",
    "\n",
    "import os\n",
    "from scipy.sparse import coo_matrix"
   ]
  },
  {
   "cell_type": "code",
   "execution_count": null,
   "id": "4098e0ca-7af1-4afa-bfef-cf33b21b8972",
   "metadata": {},
   "outputs": [],
   "source": [
    "train_data = pd.read_csv('amazon_eco-friendly_products.csv')\n",
    "train_data.columns"
   ]
  },
  {
   "cell_type": "code",
   "execution_count": null,
   "id": "1ed8443d-b982-4391-b8a7-7eb20cd9f927",
   "metadata": {},
   "outputs": [],
   "source": [
    "train_data = train_data[['id', 'title', 'name', 'category', 'material', 'brand', 'price',\n",
    "       'rating', 'reviewsCount', 'description', 'url', 'img_url', 'inStock',\n",
    "       'inStockText']]\n",
    "train_data.head(3)"
   ]
  },
  {
   "cell_type": "code",
   "execution_count": null,
   "id": "6fc9ec41-6072-49a3-8e93-a4568eff8aad",
   "metadata": {},
   "outputs": [],
   "source": [
    "train_data.shape"
   ]
  },
  {
   "cell_type": "code",
   "execution_count": null,
   "id": "af7faee5-77ba-49e9-9167-2e4aeea05a16",
   "metadata": {},
   "outputs": [],
   "source": [
    "train_data.isnull().sum()"
   ]
  },
  {
   "cell_type": "code",
   "execution_count": null,
   "id": "d6037b1a-367b-4c68-8ec2-85b0c1db4271",
   "metadata": {
    "scrolled": true
   },
   "outputs": [],
   "source": [
    "# Fill missing values in 'Product Rating' with a default value (e.g., 0)\n",
    "train_data['name'] = train_data['name'].fillna(0)\n",
    "train_data['category'] = train_data['category'].fillna(0)\n",
    "train_data['material'] = train_data['material'].fillna(0)\n",
    "train_data['brand'] = train_data['brand'].fillna(0)\n",
    "train_data['price'] = train_data['price'].fillna(0)\n",
    "train_data['rating'] = train_data['rating'].fillna(0)\n",
    "train_data['reviewsCount'] = train_data['reviewsCount'].fillna(0)\n",
    "train_data['description'] = train_data['description'].fillna(0)\n",
    "train_data['inStock'] = train_data['inStock'].fillna(0)\n",
    "train_data['inStockText'] = train_data['inStockText'].fillna(0)\n"
   ]
  },
  {
   "cell_type": "code",
   "execution_count": null,
   "id": "55118724-cac4-4dcf-8616-7abb78facf8b",
   "metadata": {},
   "outputs": [],
   "source": [
    "train_data.isnull().sum()"
   ]
  },
  {
   "cell_type": "code",
   "execution_count": null,
   "id": "d439f454-b22c-4ea8-a9f3-31345b461285",
   "metadata": {},
   "outputs": [],
   "source": [
    "# check if any dupli there \n",
    "train_data.duplicated().sum()"
   ]
  },
  {
   "cell_type": "code",
   "execution_count": null,
   "id": "df20e60d-d2f4-4489-b097-28d30a5af10c",
   "metadata": {},
   "outputs": [],
   "source": [
    "train_data = train_data.drop_duplicates()\n"
   ]
  },
  {
   "cell_type": "code",
   "execution_count": null,
   "id": "d9e8b5ec-012a-4620-9c96-48c7adfde490",
   "metadata": {},
   "outputs": [],
   "source": [
    "train_data[train_data.duplicated()]\n"
   ]
  },
  {
   "cell_type": "code",
   "execution_count": null,
   "id": "8092f82b-7fb9-407f-a466-7b1bffe4f154",
   "metadata": {},
   "outputs": [],
   "source": [
    "# make columns shorter\n",
    "# Define the mapping of current column names to shorter names\n",
    "column_name_mapping = {\n",
    "    'id': 'ID',\n",
    "    'title': 'Title',\n",
    "    'name': 'Name',\n",
    "    'category': 'Category',\n",
    "    'material': 'Material',\n",
    "    'brand': 'Brand',\n",
    "    'price': 'Price',\n",
    "    'rating': 'Rating',\n",
    "    'reviewsCount': 'Reviews',\n",
    "    'description': 'Description',\n",
    "    'url': 'URL'\n",
    "}\n",
    "# Rename the columns using the mapping\n",
    "train_data = train_data.rename(columns=column_name_mapping)\n"
   ]
  },
  {
   "cell_type": "code",
   "execution_count": null,
   "id": "3a6915f8-ad27-479d-a274-54445b3be55c",
   "metadata": {},
   "outputs": [],
   "source": [
    "# Basic statistics\n",
    "num_users = train_data['ID'].nunique()\n",
    "num_items = train_data['Brand'].nunique()\n",
    "num_ratings = train_data['Rating'].nunique()\n",
    "print(f\"Number of unique users: {num_users}\")\n",
    "print(f\"Number of unique items: {num_items}\")\n",
    "print(f\"Number of unique ratings: {num_ratings}\")"
   ]
  },
  {
   "cell_type": "code",
   "execution_count": null,
   "id": "ee8ba895-9a46-4c1b-8866-65cf1132ce27",
   "metadata": {
    "scrolled": true
   },
   "outputs": [],
   "source": [
    "# Distribution of interactions\n",
    "plt.figure(figsize=(12, 5))\n",
    "plt.subplot(1, 2, 1)\n",
    "train_data['ID'].value_counts().hist(bins=10, edgecolor='k')\n",
    "plt.xlabel('Interactions per User')\n",
    "plt.ylabel('Number of Users')\n",
    "plt.title('Distribution of Interactions per User')\n",
    "\n",
    "plt.tight_layout()\n",
    "plt.show()"
   ]
  },
  {
   "cell_type": "code",
   "execution_count": null,
   "id": "bf84aaef-271a-4ac5-bc2a-3cbd1d24d9cb",
   "metadata": {
    "scrolled": true
   },
   "outputs": [],
   "source": [
    "# most rated counts\n",
    "train_data['Rating'].value_counts().plot(kind='bar',color='red')"
   ]
  },
  {
   "cell_type": "code",
   "execution_count": null,
   "id": "4f8ac670-c7b8-4b92-b732-cee52f4373ea",
   "metadata": {},
   "outputs": [],
   "source": [
    "import spacy\n",
    "from spacy.lang.en.stop_words import STOP_WORDS\n",
    "\n",
    "nlp = spacy.load(\"en_core_web_sm\")\n",
    "\n",
    "def clean_and_extract_tags(text):\n",
    "    doc = nlp(text.lower())\n",
    "    tags = [token.text for token in doc if token.text.isalnum() and token.text not in STOP_WORDS]\n",
    "    return ', '.join(tags)\n",
    "\n",
    "columns_to_extract_tags_from = ['Title', 'Category', 'Materials', 'Brand', 'Description']\n",
    "\n",
    "\n",
    "for column in columns_to_extract_tags_from:\n",
    "    train_data[column] = train_data[column].apply(clean_and_extract_tags)"
   ]
  },
  {
   "cell_type": "code",
   "execution_count": null,
   "id": "6ecd869b-c785-4d27-ae73-a8267a7dbb51",
   "metadata": {},
   "outputs": [],
   "source": [
    "# Concatenate the cleaned tags from all relevant columns\n",
    "train_data['Tags'] = train_data[columns_to_extract_tags_from].apply(lambda row: ', '.join(row), axis=1)"
   ]
  }
 ],
 "metadata": {
  "kernelspec": {
   "display_name": "Python (myenv)",
   "language": "python",
   "name": "myenv"
  },
  "language_info": {
   "codemirror_mode": {
    "name": "ipython",
    "version": 3
   },
   "file_extension": ".py",
   "mimetype": "text/x-python",
   "name": "python",
   "nbconvert_exporter": "python",
   "pygments_lexer": "ipython3",
   "version": "3.11.9"
  }
 },
 "nbformat": 4,
 "nbformat_minor": 5
}
